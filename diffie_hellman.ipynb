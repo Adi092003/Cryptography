{
  "nbformat": 4,
  "nbformat_minor": 0,
  "metadata": {
    "colab": {
      "provenance": []
    },
    "kernelspec": {
      "name": "python3",
      "display_name": "Python 3"
    },
    "language_info": {
      "name": "python"
    }
  },
  "cells": [
    {
      "cell_type": "code",
      "source": [
        "import math"
      ],
      "metadata": {
        "id": "7NMEZZOTXdkB"
      },
      "execution_count": null,
      "outputs": []
    },
    {
      "cell_type": "code",
      "source": [
        "p = int(input(\"P = \"))\n",
        "g = int(input(\"Q = \"))\n",
        "x = int(input(\"X = \"))\n",
        "y = int(input(\"Y = \"))"
      ],
      "metadata": {
        "colab": {
          "base_uri": "https://localhost:8080/"
        },
        "id": "yBKD-mgCXaiJ",
        "outputId": "588126d6-4b99-4ce4-95f9-8c96b6830df3"
      },
      "execution_count": null,
      "outputs": [
        {
          "name": "stdout",
          "output_type": "stream",
          "text": [
            "P = 23\n",
            "Q = 7\n",
            "X = 3\n",
            "Y = 6\n"
          ]
        }
      ]
    },
    {
      "cell_type": "code",
      "source": [
        "r1 = pow(g,x,p)\n",
        "r2 = pow(g,y,p)\n",
        "k1 = pow(r2,x,p)\n",
        "k2 = pow(r1,y,p)\n",
        "if k1 == k2:\n",
        "  print(\"succesfully keys are exchanged\")\n",
        "else:\n",
        "  print(\"keys aren't exchanged succesfully \")"
      ],
      "metadata": {
        "colab": {
          "base_uri": "https://localhost:8080/"
        },
        "id": "P8cN7qaYXnF2",
        "outputId": "d398265b-b9dc-4986-f189-d816b643090f"
      },
      "execution_count": null,
      "outputs": [
        {
          "output_type": "stream",
          "name": "stdout",
          "text": [
            "succesfully keys are exchanged\n"
          ]
        }
      ]
    },
    {
      "cell_type": "code",
      "source": [
        "print(\"R1 = \",r1)\n",
        "print(\"R2 = \",r2)\n",
        "print(\"K1 = \",k1)\n",
        "print(\"K2 = \",k2)"
      ],
      "metadata": {
        "colab": {
          "base_uri": "https://localhost:8080/"
        },
        "id": "6r4mI336YRW-",
        "outputId": "66ed0d63-d69d-40da-9e71-d4f323dc917f"
      },
      "execution_count": null,
      "outputs": [
        {
          "output_type": "stream",
          "name": "stdout",
          "text": [
            "R1 =  21\n",
            "R2 =  4\n",
            "K1 =  18\n",
            "K2 =  18\n"
          ]
        }
      ]
    },
    {
      "cell_type": "code",
      "source": [
        "def is_prime(n):\n",
        "    if n <= 1:\n",
        "        return False\n",
        "    if n == 2:\n",
        "        return True\n",
        "    if n % 2 == 0:\n",
        "        return False\n",
        "    for i in range(3, int(n**0.5) + 1, 2):\n",
        "        if n % i == 0:\n",
        "            return False\n",
        "    return True\n",
        "\n",
        "while True:\n",
        "    try:\n",
        "        p = int(input(\"Enter a prime number (p): \"))\n",
        "        if not is_prime(p):\n",
        "            print(\"Not a prime number. Please try again.\")\n",
        "            continue\n",
        "\n",
        "        g = int(input(f\"Enter a base number (g) l: \"))\n",
        "        if g <= 1 or g >= p-1:\n",
        "            print(f\"Invalid base number. Please enter a number between 2 and {p-2}.\")\n",
        "            continue\n",
        "\n",
        "        a = int(input(f\"Enter Alice's private key (a) : \"))\n",
        "        if a <= 0 or a >= p:\n",
        "            print(f\"Invalid private key for Alice. Please enter a number between 1 and {p-1}.\")\n",
        "            continue\n",
        "\n",
        "        b = int(input(f\"Enter Bob's private key (b) : \"))\n",
        "        if b <= 0 or b >= p:\n",
        "            print(f\"Invalid private key for Bob. Please enter a number .\")\n",
        "            continue\n",
        "\n",
        "        break\n",
        "    except ValueError:\n",
        "        print(\"Invalid input. Please enter a valid integer.\")\n",
        "\n",
        "import numpy\n",
        "A =  pow(g,a,p)\n",
        "B =  pow(g,b,p)\n",
        "\n",
        "k1 =  pow(B,a,p)\n",
        "k2 =  pow(A,b,p)\n",
        "\n",
        "print(\"Alice's Public Key:\",A)\n",
        "print(\"Bob's Public key:\",B)\n",
        "\n",
        "if k1 == k2:\n",
        "  print(\"keys are exchanged succesfully\")\n",
        "else:\n",
        "  print(\"keys aren't exchanged succesfully \")\n"
      ],
      "metadata": {
        "id": "yum6-RCkZ36E",
        "colab": {
          "base_uri": "https://localhost:8080/"
        },
        "outputId": "52fa3811-c057-4ad9-aedf-ee2fe8f7fe4c"
      },
      "execution_count": null,
      "outputs": [
        {
          "output_type": "stream",
          "name": "stdout",
          "text": [
            "Enter a prime number (p): 23\n",
            "Enter a base number (g) l: 7\n",
            "Enter Alice's private key (a) : 3\n",
            "Enter Bob's private key (b) : 6\n",
            "Alice's Public Key: 21\n",
            "Bob's Public key: 4\n",
            "keys are exchanged succesfully\n"
          ]
        }
      ]
    },
    {
      "cell_type": "code",
      "source": [
        "6"
      ],
      "metadata": {
        "id": "pwr5Lk_9C_SE"
      },
      "execution_count": null,
      "outputs": []
    }
  ]
}